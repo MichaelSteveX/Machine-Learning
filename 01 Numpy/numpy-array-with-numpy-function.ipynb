{
 "cells": [
  {
   "cell_type": "code",
   "execution_count": 1,
   "id": "a0ce22a8",
   "metadata": {
    "_cell_guid": "b1076dfc-b9ad-4769-8c92-a6c4dae69d19",
    "_uuid": "8f2839f25d086af736a60e9eeb907d3b93b6e0e5",
    "execution": {
     "iopub.execute_input": "2025-02-12T18:24:31.961071Z",
     "iopub.status.busy": "2025-02-12T18:24:31.960678Z",
     "iopub.status.idle": "2025-02-12T18:24:33.063745Z",
     "shell.execute_reply": "2025-02-12T18:24:33.062318Z"
    },
    "papermill": {
     "duration": 1.111135,
     "end_time": "2025-02-12T18:24:33.065797",
     "exception": false,
     "start_time": "2025-02-12T18:24:31.954662",
     "status": "completed"
    },
    "tags": []
   },
   "outputs": [],
   "source": [
    "# This Python 3 environment comes with many helpful analytics libraries installed\n",
    "# It is defined by the kaggle/python Docker image: https://github.com/kaggle/docker-python\n",
    "# For example, here's several helpful packages to load\n",
    "\n",
    "import numpy as np # linear algebra\n",
    "import pandas as pd # data processing, CSV file I/O (e.g. pd.read_csv)\n",
    "\n",
    "# Input data files are available in the read-only \"../input/\" directory\n",
    "# For example, running this (by clicking run or pressing Shift+Enter) will list all files under the input directory\n",
    "\n",
    "import os\n",
    "for dirname, _, filenames in os.walk('/kaggle/input'):\n",
    "    for filename in filenames:\n",
    "        print(os.path.join(dirname, filename))\n",
    "\n",
    "# You can write up to 20GB to the current directory (/kaggle/working/) that gets preserved as output when you create a version using \"Save & Run All\" \n",
    "# You can also write temporary files to /kaggle/temp/, but they won't be saved outside of the current session"
   ]
  },
  {
   "cell_type": "markdown",
   "id": "3fc21ed7",
   "metadata": {
    "papermill": {
     "duration": 0.003965,
     "end_time": "2025-02-12T18:24:33.074526",
     "exception": false,
     "start_time": "2025-02-12T18:24:33.070561",
     "status": "completed"
    },
    "tags": []
   },
   "source": [
    "# Create Numpy Array With Numpy Function \n"
   ]
  },
  {
   "cell_type": "code",
   "execution_count": 2,
   "id": "97b39c27",
   "metadata": {
    "execution": {
     "iopub.execute_input": "2025-02-12T18:24:33.085405Z",
     "iopub.status.busy": "2025-02-12T18:24:33.084887Z",
     "iopub.status.idle": "2025-02-12T18:24:33.089206Z",
     "shell.execute_reply": "2025-02-12T18:24:33.088060Z"
    },
    "papermill": {
     "duration": 0.012353,
     "end_time": "2025-02-12T18:24:33.091389",
     "exception": false,
     "start_time": "2025-02-12T18:24:33.079036",
     "status": "completed"
    },
    "tags": []
   },
   "outputs": [],
   "source": [
    "# Array filled with 0`s\n",
    "# Array filled with 1`s\n",
    "# Create an empty array\n",
    "# An array with a range of element \n",
    "# Array diagonal element filled with 1`s\n",
    "# Create an array with values that are spaced linearly in a specified interval\n"
   ]
  },
  {
   "cell_type": "markdown",
   "id": "be263a54",
   "metadata": {
    "papermill": {
     "duration": 0.003977,
     "end_time": "2025-02-12T18:24:33.100019",
     "exception": false,
     "start_time": "2025-02-12T18:24:33.096042",
     "status": "completed"
    },
    "tags": []
   },
   "source": [
    "# Zeros\n",
    "Array made with zeros"
   ]
  },
  {
   "cell_type": "code",
   "execution_count": 3,
   "id": "2df664af",
   "metadata": {
    "execution": {
     "iopub.execute_input": "2025-02-12T18:24:33.109865Z",
     "iopub.status.busy": "2025-02-12T18:24:33.109247Z",
     "iopub.status.idle": "2025-02-12T18:24:33.114076Z",
     "shell.execute_reply": "2025-02-12T18:24:33.112649Z"
    },
    "papermill": {
     "duration": 0.011603,
     "end_time": "2025-02-12T18:24:33.115795",
     "exception": false,
     "start_time": "2025-02-12T18:24:33.104192",
     "status": "completed"
    },
    "tags": []
   },
   "outputs": [],
   "source": [
    "# making array with zero \n",
    "\n",
    "import numpy as np\n"
   ]
  },
  {
   "cell_type": "code",
   "execution_count": 4,
   "id": "621feac6",
   "metadata": {
    "execution": {
     "iopub.execute_input": "2025-02-12T18:24:33.125645Z",
     "iopub.status.busy": "2025-02-12T18:24:33.125254Z",
     "iopub.status.idle": "2025-02-12T18:24:33.130974Z",
     "shell.execute_reply": "2025-02-12T18:24:33.129850Z"
    },
    "papermill": {
     "duration": 0.012329,
     "end_time": "2025-02-12T18:24:33.132531",
     "exception": false,
     "start_time": "2025-02-12T18:24:33.120202",
     "status": "completed"
    },
    "tags": []
   },
   "outputs": [
    {
     "name": "stdout",
     "output_type": "stream",
     "text": [
      "[0. 0. 0. 0.]\n"
     ]
    }
   ],
   "source": [
    "ar_zero = np.zeros(4)\n",
    "print(ar_zero) # here the array make with zeros one D array  "
   ]
  },
  {
   "cell_type": "code",
   "execution_count": 5,
   "id": "860d7487",
   "metadata": {
    "execution": {
     "iopub.execute_input": "2025-02-12T18:24:33.142574Z",
     "iopub.status.busy": "2025-02-12T18:24:33.142186Z",
     "iopub.status.idle": "2025-02-12T18:24:33.147934Z",
     "shell.execute_reply": "2025-02-12T18:24:33.146699Z"
    },
    "papermill": {
     "duration": 0.012918,
     "end_time": "2025-02-12T18:24:33.149871",
     "exception": false,
     "start_time": "2025-02-12T18:24:33.136953",
     "status": "completed"
    },
    "tags": []
   },
   "outputs": [
    {
     "name": "stdout",
     "output_type": "stream",
     "text": [
      "[[0. 0. 0. 0.]\n",
      " [0. 0. 0. 0.]\n",
      " [0. 0. 0. 0.]]\n"
     ]
    }
   ],
   "source": [
    "# making two diamension array with zero 2 D array \n",
    "\n",
    "ar_zero = np.zeros((3,4))\n",
    "print(ar_zero)"
   ]
  },
  {
   "cell_type": "markdown",
   "id": "9b708428",
   "metadata": {
    "papermill": {
     "duration": 0.004009,
     "end_time": "2025-02-12T18:24:33.158325",
     "exception": false,
     "start_time": "2025-02-12T18:24:33.154316",
     "status": "completed"
    },
    "tags": []
   },
   "source": [
    "# Ones\n",
    "Array made with ones"
   ]
  },
  {
   "cell_type": "code",
   "execution_count": 6,
   "id": "7f45a340",
   "metadata": {
    "execution": {
     "iopub.execute_input": "2025-02-12T18:24:33.168388Z",
     "iopub.status.busy": "2025-02-12T18:24:33.168028Z",
     "iopub.status.idle": "2025-02-12T18:24:33.173813Z",
     "shell.execute_reply": "2025-02-12T18:24:33.172696Z"
    },
    "papermill": {
     "duration": 0.012759,
     "end_time": "2025-02-12T18:24:33.175525",
     "exception": false,
     "start_time": "2025-02-12T18:24:33.162766",
     "status": "completed"
    },
    "tags": []
   },
   "outputs": [
    {
     "name": "stdout",
     "output_type": "stream",
     "text": [
      "[1. 1. 1. 1. 1.]\n"
     ]
    }
   ],
   "source": [
    "# we made another array with one \n",
    "\n",
    "ar_one = np.ones(5)\n",
    "print(ar_one) # the out put is one D array "
   ]
  },
  {
   "cell_type": "code",
   "execution_count": 7,
   "id": "2daade69",
   "metadata": {
    "execution": {
     "iopub.execute_input": "2025-02-12T18:24:33.186241Z",
     "iopub.status.busy": "2025-02-12T18:24:33.185889Z",
     "iopub.status.idle": "2025-02-12T18:24:33.192852Z",
     "shell.execute_reply": "2025-02-12T18:24:33.191234Z"
    },
    "papermill": {
     "duration": 0.014728,
     "end_time": "2025-02-12T18:24:33.194760",
     "exception": false,
     "start_time": "2025-02-12T18:24:33.180032",
     "status": "completed"
    },
    "tags": []
   },
   "outputs": [
    {
     "name": "stdout",
     "output_type": "stream",
     "text": [
      "<class 'numpy.ndarray'>\n",
      "[[1. 1. 1.]\n",
      " [1. 1. 1.]\n",
      " [1. 1. 1.]]\n",
      "2\n"
     ]
    }
   ],
   "source": [
    "ar_one = np.ones((3,3))\n",
    "print(type(ar_one))\n",
    "print(ar_one)\n",
    "\n",
    "print(ar_one.ndim)   # this is a 2 D array this function is use to check the Dimen---"
   ]
  },
  {
   "cell_type": "markdown",
   "id": "2b8649ed",
   "metadata": {
    "papermill": {
     "duration": 0.004246,
     "end_time": "2025-02-12T18:24:33.203755",
     "exception": false,
     "start_time": "2025-02-12T18:24:33.199509",
     "status": "completed"
    },
    "tags": []
   },
   "source": [
    "# Empty \n",
    "Array made with empty function "
   ]
  },
  {
   "cell_type": "code",
   "execution_count": 8,
   "id": "631252d9",
   "metadata": {
    "execution": {
     "iopub.execute_input": "2025-02-12T18:24:33.214349Z",
     "iopub.status.busy": "2025-02-12T18:24:33.214015Z",
     "iopub.status.idle": "2025-02-12T18:24:33.219610Z",
     "shell.execute_reply": "2025-02-12T18:24:33.218407Z"
    },
    "papermill": {
     "duration": 0.013083,
     "end_time": "2025-02-12T18:24:33.221339",
     "exception": false,
     "start_time": "2025-02-12T18:24:33.208256",
     "status": "completed"
    },
    "tags": []
   },
   "outputs": [
    {
     "name": "stdout",
     "output_type": "stream",
     "text": [
      "[0. 0. 0. 0.]\n"
     ]
    }
   ],
   "source": [
    "# we made an other array that is empty array \n",
    "#  we made empty array \n",
    "\n",
    "ar_em = np.empty(4)\n",
    "print(ar_em)"
   ]
  },
  {
   "cell_type": "markdown",
   "id": "87583a48",
   "metadata": {
    "papermill": {
     "duration": 0.004112,
     "end_time": "2025-02-12T18:24:33.230146",
     "exception": false,
     "start_time": "2025-02-12T18:24:33.226034",
     "status": "completed"
    },
    "tags": []
   },
   "source": [
    "# Range\n",
    "Array made with range function "
   ]
  },
  {
   "cell_type": "code",
   "execution_count": 9,
   "id": "e01fd0e7",
   "metadata": {
    "execution": {
     "iopub.execute_input": "2025-02-12T18:24:33.240272Z",
     "iopub.status.busy": "2025-02-12T18:24:33.239935Z",
     "iopub.status.idle": "2025-02-12T18:24:33.247980Z",
     "shell.execute_reply": "2025-02-12T18:24:33.246851Z"
    },
    "papermill": {
     "duration": 0.015174,
     "end_time": "2025-02-12T18:24:33.249758",
     "exception": false,
     "start_time": "2025-02-12T18:24:33.234584",
     "status": "completed"
    },
    "tags": []
   },
   "outputs": [
    {
     "name": "stdout",
     "output_type": "stream",
     "text": [
      "[0 1 2 3]\n",
      "<class 'numpy.ndarray'>\n"
     ]
    }
   ],
   "source": [
    "# we made an other array with the help of range function \n",
    "\n",
    "ar_rn = np.arange(4) # range perform the operation from zero to n-1 \n",
    "print(ar_rn)\n",
    "print(type(ar_rn))"
   ]
  },
  {
   "cell_type": "markdown",
   "id": "c432fe80",
   "metadata": {
    "papermill": {
     "duration": 0.004157,
     "end_time": "2025-02-12T18:24:33.258671",
     "exception": false,
     "start_time": "2025-02-12T18:24:33.254514",
     "status": "completed"
    },
    "tags": []
   },
   "source": [
    "# Diagonal \n",
    "Array made with diagonal element\n",
    "\n",
    "\"only diagonal element will be 1 and othe will be 0\"\n",
    "\n",
    "for diagonal function we use \"\"eye\"\" function "
   ]
  },
  {
   "cell_type": "code",
   "execution_count": 10,
   "id": "de802c6a",
   "metadata": {
    "execution": {
     "iopub.execute_input": "2025-02-12T18:24:33.269058Z",
     "iopub.status.busy": "2025-02-12T18:24:33.268710Z",
     "iopub.status.idle": "2025-02-12T18:24:33.274103Z",
     "shell.execute_reply": "2025-02-12T18:24:33.273004Z"
    },
    "papermill": {
     "duration": 0.013061,
     "end_time": "2025-02-12T18:24:33.276199",
     "exception": false,
     "start_time": "2025-02-12T18:24:33.263138",
     "status": "completed"
    },
    "tags": []
   },
   "outputs": [
    {
     "name": "stdout",
     "output_type": "stream",
     "text": [
      "[[1. 0. 0.]\n",
      " [0. 1. 0.]\n",
      " [0. 0. 1.]]\n"
     ]
    }
   ],
   "source": [
    "ar_dia = np.eye(3)\n",
    "print(ar_dia) # array made with diagonal element and use the \"eye\" function "
   ]
  },
  {
   "cell_type": "code",
   "execution_count": 11,
   "id": "51ab1a43",
   "metadata": {
    "execution": {
     "iopub.execute_input": "2025-02-12T18:24:33.287245Z",
     "iopub.status.busy": "2025-02-12T18:24:33.286900Z",
     "iopub.status.idle": "2025-02-12T18:24:33.292704Z",
     "shell.execute_reply": "2025-02-12T18:24:33.291515Z"
    },
    "papermill": {
     "duration": 0.013546,
     "end_time": "2025-02-12T18:24:33.294589",
     "exception": false,
     "start_time": "2025-02-12T18:24:33.281043",
     "status": "completed"
    },
    "tags": []
   },
   "outputs": [
    {
     "name": "stdout",
     "output_type": "stream",
     "text": [
      "[[1. 0. 0.]\n",
      " [0. 1. 0.]\n",
      " [0. 0. 1.]]\n"
     ]
    }
   ],
   "source": [
    "import numpy as np\n",
    "ar_dia = np.eye(3,3)\n",
    "print(ar_dia)"
   ]
  },
  {
   "cell_type": "markdown",
   "id": "b15e69c2",
   "metadata": {
    "papermill": {
     "duration": 0.004673,
     "end_time": "2025-02-12T18:24:33.304007",
     "exception": false,
     "start_time": "2025-02-12T18:24:33.299334",
     "status": "completed"
    },
    "tags": []
   },
   "source": [
    "# line space \n",
    "\n",
    "in that function we use \"linespace\" function that create a gap in the array "
   ]
  },
  {
   "cell_type": "code",
   "execution_count": 12,
   "id": "99c8f363",
   "metadata": {
    "execution": {
     "iopub.execute_input": "2025-02-12T18:24:33.314845Z",
     "iopub.status.busy": "2025-02-12T18:24:33.314498Z",
     "iopub.status.idle": "2025-02-12T18:24:33.320319Z",
     "shell.execute_reply": "2025-02-12T18:24:33.318977Z"
    },
    "papermill": {
     "duration": 0.013404,
     "end_time": "2025-02-12T18:24:33.322117",
     "exception": false,
     "start_time": "2025-02-12T18:24:33.308713",
     "status": "completed"
    },
    "tags": []
   },
   "outputs": [
    {
     "name": "stdout",
     "output_type": "stream",
     "text": [
      "[ 0.  5. 10. 15. 20.]\n"
     ]
    }
   ],
   "source": [
    "# we use a specific function thats put a gap in te array function\n",
    "\n",
    "ar_line = np.linspace(0,20,num=5)\n",
    "print(ar_line)"
   ]
  },
  {
   "cell_type": "code",
   "execution_count": null,
   "id": "40ff43fb",
   "metadata": {
    "papermill": {
     "duration": 0.00462,
     "end_time": "2025-02-12T18:24:33.331649",
     "exception": false,
     "start_time": "2025-02-12T18:24:33.327029",
     "status": "completed"
    },
    "tags": []
   },
   "outputs": [],
   "source": []
  }
 ],
 "metadata": {
  "kaggle": {
   "accelerator": "none",
   "dataSources": [],
   "dockerImageVersionId": 30886,
   "isGpuEnabled": false,
   "isInternetEnabled": true,
   "language": "python",
   "sourceType": "notebook"
  },
  "kernelspec": {
   "display_name": "Python 3",
   "language": "python",
   "name": "python3"
  },
  "language_info": {
   "codemirror_mode": {
    "name": "ipython",
    "version": 3
   },
   "file_extension": ".py",
   "mimetype": "text/x-python",
   "name": "python",
   "nbconvert_exporter": "python",
   "pygments_lexer": "ipython3",
   "version": "3.10.12"
  },
  "papermill": {
   "default_parameters": {},
   "duration": 5.056392,
   "end_time": "2025-02-12T18:24:33.957508",
   "environment_variables": {},
   "exception": null,
   "input_path": "__notebook__.ipynb",
   "output_path": "__notebook__.ipynb",
   "parameters": {},
   "start_time": "2025-02-12T18:24:28.901116",
   "version": "2.6.0"
  }
 },
 "nbformat": 4,
 "nbformat_minor": 5
}
