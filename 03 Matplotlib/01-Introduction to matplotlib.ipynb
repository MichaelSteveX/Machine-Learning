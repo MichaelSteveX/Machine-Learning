{
 "cells": [
  {
   "cell_type": "markdown",
   "id": "21ed1a6c-3381-4982-a09b-6289672f71df",
   "metadata": {},
   "source": [
    "#### Introduction of Matplotlib"
   ]
  },
  {
   "cell_type": "code",
   "execution_count": 2,
   "id": "9e8900fb-6be1-430e-ab2a-05eaf553f251",
   "metadata": {},
   "outputs": [],
   "source": [
    "# what is matplotlib ---- Matplotlib is a 2D and 3D plottiing python library\n",
    "#                         it produce high quality graph \n",
    "#                         it also support animation"
   ]
  },
  {
   "cell_type": "code",
   "execution_count": 4,
   "id": "a3404e5d-9dfd-4c3a-94a8-15386edf66b8",
   "metadata": {},
   "outputs": [],
   "source": [
    "# History of matplotlib -------- American neurobiologist\n",
    "#                                John D .Hunter (1968-2012)\n",
    "#                                Author of matplotlib\n",
    "#                                Written in python library\n",
    "#                                initial released in 2003"
   ]
  },
  {
   "cell_type": "markdown",
   "id": "683064b2-5f15-4bfe-adc8-0d0bcc96ed6f",
   "metadata": {},
   "source": [
    "#### Matplotlib Graph"
   ]
  },
  {
   "cell_type": "code",
   "execution_count": 6,
   "id": "6a4027f8-0ba3-4f0a-a0f9-f5396e6a90bd",
   "metadata": {},
   "outputs": [],
   "source": [
    "# Histogram\n",
    "# Bar Chart\n",
    "# Scatterplots\n",
    "# Area plot\n",
    "# Pie plot\n",
    "# Error Chart \n",
    "# Power spectra"
   ]
  },
  {
   "cell_type": "markdown",
   "id": "a36ef110-1d90-45a1-b97d-752f1c45f7e7",
   "metadata": {},
   "source": [
    "#### Dependency"
   ]
  },
  {
   "cell_type": "code",
   "execution_count": 7,
   "id": "231d9812-561a-4221-acfc-7fc3226cf28a",
   "metadata": {},
   "outputs": [],
   "source": [
    "# is library ka use karne ke liye dusre library pe depend rahena padta hai\n",
    "# numpy\n",
    "# pandas"
   ]
  },
  {
   "cell_type": "code",
   "execution_count": null,
   "id": "8f56c57d-ff12-4678-8cac-ee3e95d62ea0",
   "metadata": {},
   "outputs": [],
   "source": []
  }
 ],
 "metadata": {
  "kernelspec": {
   "display_name": "Python 3 (ipykernel)",
   "language": "python",
   "name": "python3"
  },
  "language_info": {
   "codemirror_mode": {
    "name": "ipython",
    "version": 3
   },
   "file_extension": ".py",
   "mimetype": "text/x-python",
   "name": "python",
   "nbconvert_exporter": "python",
   "pygments_lexer": "ipython3",
   "version": "3.13.1"
  }
 },
 "nbformat": 4,
 "nbformat_minor": 5
}
