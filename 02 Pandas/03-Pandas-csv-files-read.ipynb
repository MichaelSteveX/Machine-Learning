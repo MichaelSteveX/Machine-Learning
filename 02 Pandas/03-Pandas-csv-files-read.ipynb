{
 "cells": [
  {
   "cell_type": "code",
   "execution_count": 1,
   "metadata": {
    "_cell_guid": "b1076dfc-b9ad-4769-8c92-a6c4dae69d19",
    "_uuid": "8f2839f25d086af736a60e9eeb907d3b93b6e0e5",
    "execution": {
     "iopub.execute_input": "2025-02-22T07:41:52.781566Z",
     "iopub.status.busy": "2025-02-22T07:41:52.781270Z",
     "iopub.status.idle": "2025-02-22T07:41:53.808861Z",
     "shell.execute_reply": "2025-02-22T07:41:53.807750Z",
     "shell.execute_reply.started": "2025-02-22T07:41:52.781491Z"
    }
   },
   "outputs": [
    {
     "name": "stdout",
     "output_type": "stream",
     "text": [
      "/kaggle/input/top-10-it-companies/Top-10-IT-Companies-in-India.csv\n"
     ]
    }
   ],
   "source": [
    "# This Python 3 environment comes with many helpful analytics libraries installed\n",
    "# It is defined by the kaggle/python Docker image: https://github.com/kaggle/docker-python\n",
    "# For example, here's several helpful packages to load\n",
    "\n",
    "import numpy as np # linear algebra\n",
    "import pandas as pd # data processing, CSV file I/O (e.g. pd.read_csv)\n",
    "\n",
    "# Input data files are available in the read-only \"../input/\" directory\n",
    "# For example, running this (by clicking run or pressing Shift+Enter) will list all files under the input directory\n",
    "\n",
    "import os\n",
    "for dirname, _, filenames in os.walk('/kaggle/input'):\n",
    "    for filename in filenames:\n",
    "        print(os.path.join(dirname, filename))\n",
    "\n",
    "# You can write up to 20GB to the current directory (/kaggle/working/) that gets preserved as output when you create a version using \"Save & Run All\" \n",
    "# You can also write temporary files to /kaggle/temp/, but they won't be saved outside of the current session"
   ]
  },
  {
   "cell_type": "markdown",
   "metadata": {},
   "source": [
    "# What is CSV Files"
   ]
  },
  {
   "cell_type": "code",
   "execution_count": 4,
   "metadata": {
    "execution": {
     "iopub.execute_input": "2025-02-22T07:48:35.649320Z",
     "iopub.status.busy": "2025-02-22T07:48:35.648941Z",
     "iopub.status.idle": "2025-02-22T07:48:35.653320Z",
     "shell.execute_reply": "2025-02-22T07:48:35.652152Z",
     "shell.execute_reply.started": "2025-02-22T07:48:35.649276Z"
    }
   },
   "outputs": [],
   "source": [
    "# CSV file is a extension of a particular file \n",
    "# CSV --- 'Comma separated value'\n",
    "# In CSV the value are separated with comma\n",
    "# CSV formate ka use tabular data ko store karne ke liye hota hai \n",
    "\n",
    "# Kisi bhi data science ke project me main part hota hai data ko import karna and most of the data means raw data CSV files me hota hai \n"
   ]
  },
  {
   "cell_type": "markdown",
   "metadata": {},
   "source": [
    "# How to read CSV files in pandas"
   ]
  },
  {
   "cell_type": "code",
   "execution_count": 5,
   "metadata": {
    "execution": {
     "iopub.execute_input": "2025-02-22T07:50:39.049433Z",
     "iopub.status.busy": "2025-02-22T07:50:39.049025Z",
     "iopub.status.idle": "2025-02-22T07:50:39.054060Z",
     "shell.execute_reply": "2025-02-22T07:50:39.052851Z",
     "shell.execute_reply.started": "2025-02-22T07:50:39.049401Z"
    }
   },
   "outputs": [],
   "source": [
    "import pandas as pd"
   ]
  },
  {
   "cell_type": "code",
   "execution_count": 6,
   "metadata": {
    "execution": {
     "iopub.execute_input": "2025-02-22T07:51:22.889658Z",
     "iopub.status.busy": "2025-02-22T07:51:22.889121Z",
     "iopub.status.idle": "2025-02-22T07:51:22.895211Z",
     "shell.execute_reply": "2025-02-22T07:51:22.893846Z",
     "shell.execute_reply.started": "2025-02-22T07:51:22.889608Z"
    }
   },
   "outputs": [],
   "source": [
    "# data ko import karne ke liye pandas ke \"read_csv\" function ka use karte hai \n",
    "\n",
    "# If kisi bhi function ka humko information chaiye to hum help function ka use kar sakte hai \n",
    "\n",
    "#help(pd.read_csv)\n"
   ]
  },
  {
   "cell_type": "markdown",
   "metadata": {},
   "source": [
    "# Data Import"
   ]
  },
  {
   "cell_type": "code",
   "execution_count": 7,
   "metadata": {
    "execution": {
     "iopub.execute_input": "2025-02-22T07:52:25.009313Z",
     "iopub.status.busy": "2025-02-22T07:52:25.008947Z",
     "iopub.status.idle": "2025-02-22T07:52:25.013372Z",
     "shell.execute_reply": "2025-02-22T07:52:25.012222Z",
     "shell.execute_reply.started": "2025-02-22T07:52:25.009284Z"
    }
   },
   "outputs": [],
   "source": [
    "# Hum yaha par Data ko import karenge "
   ]
  },
  {
   "cell_type": "code",
   "execution_count": 2,
   "metadata": {
    "execution": {
     "iopub.execute_input": "2025-02-22T07:46:00.419301Z",
     "iopub.status.busy": "2025-02-22T07:46:00.418948Z",
     "iopub.status.idle": "2025-02-22T07:46:00.436842Z",
     "shell.execute_reply": "2025-02-22T07:46:00.435657Z",
     "shell.execute_reply.started": "2025-02-22T07:46:00.419273Z"
    }
   },
   "outputs": [],
   "source": [
    "data = pd.read_csv(\"/kaggle/input/top-10-it-companies/Top-10-IT-Companies-in-India.csv\")"
   ]
  },
  {
   "cell_type": "code",
   "execution_count": 3,
   "metadata": {
    "execution": {
     "iopub.execute_input": "2025-02-22T07:46:14.738939Z",
     "iopub.status.busy": "2025-02-22T07:46:14.738568Z",
     "iopub.status.idle": "2025-02-22T07:46:14.766668Z",
     "shell.execute_reply": "2025-02-22T07:46:14.765308Z",
     "shell.execute_reply.started": "2025-02-22T07:46:14.738910Z"
    }
   },
   "outputs": [
    {
     "data": {
      "text/html": [
       "<div>\n",
       "<style scoped>\n",
       "    .dataframe tbody tr th:only-of-type {\n",
       "        vertical-align: middle;\n",
       "    }\n",
       "\n",
       "    .dataframe tbody tr th {\n",
       "        vertical-align: top;\n",
       "    }\n",
       "\n",
       "    .dataframe thead th {\n",
       "        text-align: right;\n",
       "    }\n",
       "</style>\n",
       "<table border=\"1\" class=\"dataframe\">\n",
       "  <thead>\n",
       "    <tr style=\"text-align: right;\">\n",
       "      <th></th>\n",
       "      <th>Top 10 IT Companies in India</th>\n",
       "    </tr>\n",
       "  </thead>\n",
       "  <tbody>\n",
       "    <tr>\n",
       "      <th>0</th>\n",
       "      <td>TCS</td>\n",
       "    </tr>\n",
       "    <tr>\n",
       "      <th>1</th>\n",
       "      <td>Infosys</td>\n",
       "    </tr>\n",
       "    <tr>\n",
       "      <th>2</th>\n",
       "      <td>Tech Mahindra</td>\n",
       "    </tr>\n",
       "    <tr>\n",
       "      <th>3</th>\n",
       "      <td>Wipro</td>\n",
       "    </tr>\n",
       "    <tr>\n",
       "      <th>4</th>\n",
       "      <td>HCL Technologies</td>\n",
       "    </tr>\n",
       "  </tbody>\n",
       "</table>\n",
       "</div>"
      ],
      "text/plain": [
       "  Top 10 IT Companies in India\n",
       "0                          TCS\n",
       "1                      Infosys\n",
       "2                Tech Mahindra\n",
       "3                        Wipro\n",
       "4             HCL Technologies"
      ]
     },
     "execution_count": 3,
     "metadata": {},
     "output_type": "execute_result"
    }
   ],
   "source": [
    "data.head()"
   ]
  },
  {
   "cell_type": "code",
   "execution_count": 8,
   "metadata": {
    "execution": {
     "iopub.execute_input": "2025-02-22T07:52:49.609382Z",
     "iopub.status.busy": "2025-02-22T07:52:49.609002Z",
     "iopub.status.idle": "2025-02-22T07:52:49.613801Z",
     "shell.execute_reply": "2025-02-22T07:52:49.612789Z",
     "shell.execute_reply.started": "2025-02-22T07:52:49.609349Z"
    }
   },
   "outputs": [],
   "source": [
    "# os module ka use karke hum pata karte hai ki ye particular file kaha par store hui hai \n",
    "\n",
    "import os"
   ]
  },
  {
   "cell_type": "code",
   "execution_count": 9,
   "metadata": {
    "execution": {
     "iopub.execute_input": "2025-02-22T07:53:01.573078Z",
     "iopub.status.busy": "2025-02-22T07:53:01.572760Z",
     "iopub.status.idle": "2025-02-22T07:53:01.578506Z",
     "shell.execute_reply": "2025-02-22T07:53:01.577195Z",
     "shell.execute_reply.started": "2025-02-22T07:53:01.573053Z"
    }
   },
   "outputs": [
    {
     "name": "stdout",
     "output_type": "stream",
     "text": [
      "<built-in function getcwd>\n"
     ]
    }
   ],
   "source": [
    "print(os.getcwd)"
   ]
  },
  {
   "cell_type": "code",
   "execution_count": null,
   "metadata": {},
   "outputs": [],
   "source": []
  }
 ],
 "metadata": {
  "kaggle": {
   "accelerator": "none",
   "dataSources": [
    {
     "datasetId": 6717799,
     "sourceId": 10819909,
     "sourceType": "datasetVersion"
    }
   ],
   "dockerImageVersionId": 30918,
   "isGpuEnabled": false,
   "isInternetEnabled": true,
   "language": "python",
   "sourceType": "notebook"
  },
  "kernelspec": {
   "display_name": "Python 3 (ipykernel)",
   "language": "python",
   "name": "python3"
  },
  "language_info": {
   "codemirror_mode": {
    "name": "ipython",
    "version": 3
   },
   "file_extension": ".py",
   "mimetype": "text/x-python",
   "name": "python",
   "nbconvert_exporter": "python",
   "pygments_lexer": "ipython3",
   "version": "3.13.1"
  }
 },
 "nbformat": 4,
 "nbformat_minor": 4
}
