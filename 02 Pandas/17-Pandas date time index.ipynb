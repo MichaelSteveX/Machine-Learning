{
 "cells": [
  {
   "cell_type": "markdown",
   "id": "8f0c7b29-c1ac-4ed4-b6e6-10e577a93c52",
   "metadata": {},
   "source": [
    "## Pandas date time index "
   ]
  },
  {
   "cell_type": "code",
   "execution_count": 1,
   "id": "74060947-dceb-4129-a177-3a9968e6b019",
   "metadata": {},
   "outputs": [],
   "source": [
    "#  pandas date time index ------ in this how we change date column in to datetimeindex "
   ]
  },
  {
   "cell_type": "code",
   "execution_count": 2,
   "id": "0c7d5fef-357e-423e-aad1-8d94466cbb24",
   "metadata": {},
   "outputs": [],
   "source": [
    "import pandas as pd"
   ]
  },
  {
   "cell_type": "code",
   "execution_count": 7,
   "id": "d0625d8e-be65-4e00-917e-8af73bf779ad",
   "metadata": {},
   "outputs": [
    {
     "data": {
      "text/html": [
       "<div>\n",
       "<style scoped>\n",
       "    .dataframe tbody tr th:only-of-type {\n",
       "        vertical-align: middle;\n",
       "    }\n",
       "\n",
       "    .dataframe tbody tr th {\n",
       "        vertical-align: top;\n",
       "    }\n",
       "\n",
       "    .dataframe thead th {\n",
       "        text-align: right;\n",
       "    }\n",
       "</style>\n",
       "<table border=\"1\" class=\"dataframe\">\n",
       "  <thead>\n",
       "    <tr style=\"text-align: right;\">\n",
       "      <th></th>\n",
       "      <th>Date</th>\n",
       "      <th>R and D Spend</th>\n",
       "      <th>Marketing Spend</th>\n",
       "      <th>Profit</th>\n",
       "    </tr>\n",
       "  </thead>\n",
       "  <tbody>\n",
       "    <tr>\n",
       "      <th>0</th>\n",
       "      <td>01-07-2019</td>\n",
       "      <td>165349.0</td>\n",
       "      <td>136897.0</td>\n",
       "      <td>192261.0</td>\n",
       "    </tr>\n",
       "    <tr>\n",
       "      <th>1</th>\n",
       "      <td>02-07-2019</td>\n",
       "      <td>133848.0</td>\n",
       "      <td>151377.0</td>\n",
       "      <td>191792.0</td>\n",
       "    </tr>\n",
       "    <tr>\n",
       "      <th>2</th>\n",
       "      <td>03-07-2019</td>\n",
       "      <td>153441.0</td>\n",
       "      <td>327468.0</td>\n",
       "      <td>191050.0</td>\n",
       "    </tr>\n",
       "    <tr>\n",
       "      <th>3</th>\n",
       "      <td>04-07-2019</td>\n",
       "      <td>147372.0</td>\n",
       "      <td>63338.0</td>\n",
       "      <td>182901.0</td>\n",
       "    </tr>\n",
       "    <tr>\n",
       "      <th>4</th>\n",
       "      <td>05-07-2019</td>\n",
       "      <td>142107.0</td>\n",
       "      <td>91391.0</td>\n",
       "      <td>166187.0</td>\n",
       "    </tr>\n",
       "    <tr>\n",
       "      <th>5</th>\n",
       "      <td>08-07-2019</td>\n",
       "      <td>131876.0</td>\n",
       "      <td>99814.0</td>\n",
       "      <td>155991.0</td>\n",
       "    </tr>\n",
       "    <tr>\n",
       "      <th>6</th>\n",
       "      <td>09-07-2019</td>\n",
       "      <td>134815.0</td>\n",
       "      <td>147198.0</td>\n",
       "      <td>156122.0</td>\n",
       "    </tr>\n",
       "    <tr>\n",
       "      <th>7</th>\n",
       "      <td>10-07-2019</td>\n",
       "      <td>130288.0</td>\n",
       "      <td>145530.0</td>\n",
       "      <td>155752.0</td>\n",
       "    </tr>\n",
       "    <tr>\n",
       "      <th>8</th>\n",
       "      <td>11-07-2019</td>\n",
       "      <td>120542.0</td>\n",
       "      <td>148718.0</td>\n",
       "      <td>152211.0</td>\n",
       "    </tr>\n",
       "    <tr>\n",
       "      <th>9</th>\n",
       "      <td>12-07-2019</td>\n",
       "      <td>123334.0</td>\n",
       "      <td>108679.0</td>\n",
       "      <td>149759.0</td>\n",
       "    </tr>\n",
       "    <tr>\n",
       "      <th>10</th>\n",
       "      <td>NaN</td>\n",
       "      <td>NaN</td>\n",
       "      <td>NaN</td>\n",
       "      <td>NaN</td>\n",
       "    </tr>\n",
       "    <tr>\n",
       "      <th>11</th>\n",
       "      <td>NaN</td>\n",
       "      <td>NaN</td>\n",
       "      <td>NaN</td>\n",
       "      <td>NaN</td>\n",
       "    </tr>\n",
       "  </tbody>\n",
       "</table>\n",
       "</div>"
      ],
      "text/plain": [
       "          Date  R and D Spend  Marketing Spend    Profit\n",
       "0   01-07-2019       165349.0         136897.0  192261.0\n",
       "1   02-07-2019       133848.0         151377.0  191792.0\n",
       "2   03-07-2019       153441.0         327468.0  191050.0\n",
       "3   04-07-2019       147372.0          63338.0  182901.0\n",
       "4   05-07-2019       142107.0          91391.0  166187.0\n",
       "5   08-07-2019       131876.0          99814.0  155991.0\n",
       "6   09-07-2019       134815.0         147198.0  156122.0\n",
       "7   10-07-2019       130288.0         145530.0  155752.0\n",
       "8   11-07-2019       120542.0         148718.0  152211.0\n",
       "9   12-07-2019       123334.0         108679.0  149759.0\n",
       "10         NaN            NaN              NaN       NaN\n",
       "11         NaN            NaN              NaN       NaN"
      ]
     },
     "execution_count": 7,
     "metadata": {},
     "output_type": "execute_result"
    }
   ],
   "source": [
    "df = pd.read_csv(\"C:\\\\Users\\\\Admin\\\\Documents\\\\Startups Data.csv\")\n",
    "df"
   ]
  },
  {
   "cell_type": "code",
   "execution_count": 8,
   "id": "029238cf-333d-4c49-b7f3-5d2a82469122",
   "metadata": {},
   "outputs": [
    {
     "data": {
      "text/plain": [
       "Date                object\n",
       "R and D Spend      float64\n",
       "Marketing Spend    float64\n",
       "Profit             float64\n",
       "dtype: object"
      ]
     },
     "execution_count": 8,
     "metadata": {},
     "output_type": "execute_result"
    }
   ],
   "source": [
    "# Check type of date\n",
    "df.dtypes"
   ]
  },
  {
   "cell_type": "code",
   "execution_count": 10,
   "id": "b59f9095-0cf2-4545-96ff-db022f9856e5",
   "metadata": {},
   "outputs": [
    {
     "data": {
      "text/plain": [
       "str"
      ]
     },
     "execution_count": 10,
     "metadata": {},
     "output_type": "execute_result"
    }
   ],
   "source": [
    "type(df.Date[0])\n",
    "# here the type of date is string so we have to change this into datetimeindex"
   ]
  },
  {
   "cell_type": "code",
   "execution_count": 12,
   "id": "3a1937b8-af05-412f-b437-4e1098615e73",
   "metadata": {},
   "outputs": [
    {
     "data": {
      "text/html": [
       "<div>\n",
       "<style scoped>\n",
       "    .dataframe tbody tr th:only-of-type {\n",
       "        vertical-align: middle;\n",
       "    }\n",
       "\n",
       "    .dataframe tbody tr th {\n",
       "        vertical-align: top;\n",
       "    }\n",
       "\n",
       "    .dataframe thead th {\n",
       "        text-align: right;\n",
       "    }\n",
       "</style>\n",
       "<table border=\"1\" class=\"dataframe\">\n",
       "  <thead>\n",
       "    <tr style=\"text-align: right;\">\n",
       "      <th></th>\n",
       "      <th>Date</th>\n",
       "      <th>R and D Spend</th>\n",
       "      <th>Marketing Spend</th>\n",
       "      <th>Profit</th>\n",
       "    </tr>\n",
       "  </thead>\n",
       "  <tbody>\n",
       "    <tr>\n",
       "      <th>0</th>\n",
       "      <td>2019-01-07</td>\n",
       "      <td>165349.0</td>\n",
       "      <td>136897.0</td>\n",
       "      <td>192261.0</td>\n",
       "    </tr>\n",
       "    <tr>\n",
       "      <th>1</th>\n",
       "      <td>2019-02-07</td>\n",
       "      <td>133848.0</td>\n",
       "      <td>151377.0</td>\n",
       "      <td>191792.0</td>\n",
       "    </tr>\n",
       "    <tr>\n",
       "      <th>2</th>\n",
       "      <td>2019-03-07</td>\n",
       "      <td>153441.0</td>\n",
       "      <td>327468.0</td>\n",
       "      <td>191050.0</td>\n",
       "    </tr>\n",
       "    <tr>\n",
       "      <th>3</th>\n",
       "      <td>2019-04-07</td>\n",
       "      <td>147372.0</td>\n",
       "      <td>63338.0</td>\n",
       "      <td>182901.0</td>\n",
       "    </tr>\n",
       "    <tr>\n",
       "      <th>4</th>\n",
       "      <td>2019-05-07</td>\n",
       "      <td>142107.0</td>\n",
       "      <td>91391.0</td>\n",
       "      <td>166187.0</td>\n",
       "    </tr>\n",
       "    <tr>\n",
       "      <th>5</th>\n",
       "      <td>2019-08-07</td>\n",
       "      <td>131876.0</td>\n",
       "      <td>99814.0</td>\n",
       "      <td>155991.0</td>\n",
       "    </tr>\n",
       "    <tr>\n",
       "      <th>6</th>\n",
       "      <td>2019-09-07</td>\n",
       "      <td>134815.0</td>\n",
       "      <td>147198.0</td>\n",
       "      <td>156122.0</td>\n",
       "    </tr>\n",
       "    <tr>\n",
       "      <th>7</th>\n",
       "      <td>2019-10-07</td>\n",
       "      <td>130288.0</td>\n",
       "      <td>145530.0</td>\n",
       "      <td>155752.0</td>\n",
       "    </tr>\n",
       "    <tr>\n",
       "      <th>8</th>\n",
       "      <td>2019-11-07</td>\n",
       "      <td>120542.0</td>\n",
       "      <td>148718.0</td>\n",
       "      <td>152211.0</td>\n",
       "    </tr>\n",
       "    <tr>\n",
       "      <th>9</th>\n",
       "      <td>2019-12-07</td>\n",
       "      <td>123334.0</td>\n",
       "      <td>108679.0</td>\n",
       "      <td>149759.0</td>\n",
       "    </tr>\n",
       "    <tr>\n",
       "      <th>10</th>\n",
       "      <td>NaT</td>\n",
       "      <td>NaN</td>\n",
       "      <td>NaN</td>\n",
       "      <td>NaN</td>\n",
       "    </tr>\n",
       "    <tr>\n",
       "      <th>11</th>\n",
       "      <td>NaT</td>\n",
       "      <td>NaN</td>\n",
       "      <td>NaN</td>\n",
       "      <td>NaN</td>\n",
       "    </tr>\n",
       "  </tbody>\n",
       "</table>\n",
       "</div>"
      ],
      "text/plain": [
       "         Date  R and D Spend  Marketing Spend    Profit\n",
       "0  2019-01-07       165349.0         136897.0  192261.0\n",
       "1  2019-02-07       133848.0         151377.0  191792.0\n",
       "2  2019-03-07       153441.0         327468.0  191050.0\n",
       "3  2019-04-07       147372.0          63338.0  182901.0\n",
       "4  2019-05-07       142107.0          91391.0  166187.0\n",
       "5  2019-08-07       131876.0          99814.0  155991.0\n",
       "6  2019-09-07       134815.0         147198.0  156122.0\n",
       "7  2019-10-07       130288.0         145530.0  155752.0\n",
       "8  2019-11-07       120542.0         148718.0  152211.0\n",
       "9  2019-12-07       123334.0         108679.0  149759.0\n",
       "10        NaT            NaN              NaN       NaN\n",
       "11        NaT            NaN              NaN       NaN"
      ]
     },
     "execution_count": 12,
     "metadata": {},
     "output_type": "execute_result"
    }
   ],
   "source": [
    "df = pd.read_csv(\"C:\\\\Users\\\\Admin\\\\Documents\\\\Startups Data.csv\",parse_dates = ['Date'])\n",
    "df"
   ]
  },
  {
   "cell_type": "code",
   "execution_count": 15,
   "id": "6e66fb36-e26a-4244-a55f-613388dd5240",
   "metadata": {},
   "outputs": [
    {
     "data": {
      "text/plain": [
       "Date               datetime64[ns]\n",
       "R and D Spend             float64\n",
       "Marketing Spend           float64\n",
       "Profit                    float64\n",
       "dtype: object"
      ]
     },
     "execution_count": 15,
     "metadata": {},
     "output_type": "execute_result"
    }
   ],
   "source": [
    "# now again check the type \n",
    "df.dtypes\n",
    "\n",
    "# hence date is  changed in to datetimeindex "
   ]
  },
  {
   "cell_type": "code",
   "execution_count": 16,
   "id": "4a82c1aa-43fb-44e9-b020-832f343b1008",
   "metadata": {},
   "outputs": [
    {
     "data": {
      "text/plain": [
       "pandas._libs.tslibs.timestamps.Timestamp"
      ]
     },
     "execution_count": 16,
     "metadata": {},
     "output_type": "execute_result"
    }
   ],
   "source": [
    "type(df.Date[0])"
   ]
  },
  {
   "cell_type": "code",
   "execution_count": null,
   "id": "804b68c1-2437-43cc-9b0f-d814c28b9dcc",
   "metadata": {},
   "outputs": [],
   "source": []
  }
 ],
 "metadata": {
  "kernelspec": {
   "display_name": "Python 3 (ipykernel)",
   "language": "python",
   "name": "python3"
  },
  "language_info": {
   "codemirror_mode": {
    "name": "ipython",
    "version": 3
   },
   "file_extension": ".py",
   "mimetype": "text/x-python",
   "name": "python",
   "nbconvert_exporter": "python",
   "pygments_lexer": "ipython3",
   "version": "3.13.1"
  }
 },
 "nbformat": 4,
 "nbformat_minor": 5
}
