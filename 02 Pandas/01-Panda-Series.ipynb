{
 "cells": [
  {
   "cell_type": "code",
   "execution_count": 2,
   "metadata": {
    "_cell_guid": "b1076dfc-b9ad-4769-8c92-a6c4dae69d19",
    "_uuid": "8f2839f25d086af736a60e9eeb907d3b93b6e0e5"
   },
   "outputs": [],
   "source": [
    "# This Python 3 environment comes with many helpful analytics libraries installed\n",
    "# It is defined by the kaggle/python Docker image: https://github.com/kaggle/docker-python\n",
    "# For example, here's several helpful packages to load\n",
    "\n",
    "import numpy as np # linear algebra\n",
    "import pandas as pd # data processing, CSV file I/O (e.g. pd.read_csv)\n",
    "\n",
    "# Input data files are available in the read-only \"../input/\" directory\n",
    "# For example, running this (by clicking run or pressing Shift+Enter) will list all files under the input directory\n",
    "\n",
    "import os\n",
    "for dirname, _, filenames in os.walk('/kaggle/input'):\n",
    "    for filename in filenames:\n",
    "        print(os.path.join(dirname, filename))\n",
    "\n",
    "# You can write up to 20GB to the current directory (/kaggle/working/) that gets preserved as output when you create a version using \"Save & Run All\" \n",
    "# You can also write temporary files to /kaggle/temp/, but they won't be saved outside of the current session"
   ]
  },
  {
   "cell_type": "markdown",
   "metadata": {},
   "source": [
    "# Making of Series "
   ]
  },
  {
   "cell_type": "code",
   "execution_count": null,
   "metadata": {},
   "outputs": [],
   "source": [
    "# Here we are going to study about pandas series "
   ]
  },
  {
   "cell_type": "code",
   "execution_count": 3,
   "metadata": {},
   "outputs": [],
   "source": [
    "import pandas as pd "
   ]
  },
  {
   "cell_type": "code",
   "execution_count": 5,
   "metadata": {
    "execution": {
     "iopub.execute_input": "2025-02-15T10:26:37.586823Z",
     "iopub.status.busy": "2025-02-15T10:26:37.586517Z",
     "iopub.status.idle": "2025-02-15T10:26:37.593434Z",
     "shell.execute_reply": "2025-02-15T10:26:37.592353Z",
     "shell.execute_reply.started": "2025-02-15T10:26:37.586799Z"
    }
   },
   "outputs": [
    {
     "data": {
      "text/plain": [
       "'2.2.3'"
      ]
     },
     "execution_count": 5,
     "metadata": {},
     "output_type": "execute_result"
    }
   ],
   "source": [
    "# to check tha pandas version\n",
    "pd.__version__"
   ]
  },
  {
   "cell_type": "markdown",
   "metadata": {},
   "source": [
    "# Series\n",
    "\n",
    "Normal method for series creation "
   ]
  },
  {
   "cell_type": "code",
   "execution_count": 6,
   "metadata": {
    "execution": {
     "iopub.execute_input": "2025-02-15T10:28:04.581541Z",
     "iopub.status.busy": "2025-02-15T10:28:04.581212Z",
     "iopub.status.idle": "2025-02-15T10:28:04.587552Z",
     "shell.execute_reply": "2025-02-15T10:28:04.586319Z",
     "shell.execute_reply.started": "2025-02-15T10:28:04.581516Z"
    }
   },
   "outputs": [
    {
     "name": "stdout",
     "output_type": "stream",
     "text": [
      "[1, 2, 3, -2, -4, 9.4, 56.5, 'Data values']\n"
     ]
    }
   ],
   "source": [
    "list_s = [1,2,3,-2,-4,9.4,56.5,'Data values']\n",
    "print(list_s)"
   ]
  },
  {
   "cell_type": "code",
   "execution_count": 7,
   "metadata": {
    "execution": {
     "iopub.execute_input": "2025-02-15T10:30:24.561944Z",
     "iopub.status.busy": "2025-02-15T10:30:24.561574Z",
     "iopub.status.idle": "2025-02-15T10:30:24.571722Z",
     "shell.execute_reply": "2025-02-15T10:30:24.570826Z",
     "shell.execute_reply.started": "2025-02-15T10:30:24.561908Z"
    }
   },
   "outputs": [
    {
     "name": "stdout",
     "output_type": "stream",
     "text": [
      "0              1\n",
      "1              2\n",
      "2              3\n",
      "3             -2\n",
      "4             -4\n",
      "5            9.4\n",
      "6           56.5\n",
      "7    Data values\n",
      "dtype: object\n"
     ]
    }
   ],
   "source": [
    "# now we create series\n",
    "series1 = pd.Series(list_s)\n",
    "print(series1)\n",
    "\n",
    "# jab humne yaha par series ka use kiya to humko sarey data with index print hua \n",
    "# first column index value and second column data value "
   ]
  },
  {
   "cell_type": "code",
   "execution_count": 8,
   "metadata": {
    "execution": {
     "iopub.execute_input": "2025-02-15T10:34:33.562026Z",
     "iopub.status.busy": "2025-02-15T10:34:33.561631Z",
     "iopub.status.idle": "2025-02-15T10:34:33.567526Z",
     "shell.execute_reply": "2025-02-15T10:34:33.566419Z",
     "shell.execute_reply.started": "2025-02-15T10:34:33.561993Z"
    }
   },
   "outputs": [
    {
     "name": "stdout",
     "output_type": "stream",
     "text": [
      "<class 'pandas.core.series.Series'>\n"
     ]
    }
   ],
   "source": [
    "print(type(series1))"
   ]
  },
  {
   "cell_type": "markdown",
   "metadata": {},
   "source": [
    "# Short Method \n",
    "\n",
    "short method for series creation "
   ]
  },
  {
   "cell_type": "code",
   "execution_count": 4,
   "metadata": {
    "execution": {
     "iopub.execute_input": "2025-02-15T12:19:17.842087Z",
     "iopub.status.busy": "2025-02-15T12:19:17.841472Z",
     "iopub.status.idle": "2025-02-15T12:19:17.852044Z",
     "shell.execute_reply": "2025-02-15T12:19:17.850814Z",
     "shell.execute_reply.started": "2025-02-15T12:19:17.842047Z"
    }
   },
   "outputs": [
    {
     "name": "stdout",
     "output_type": "stream",
     "text": [
      "0    1\n",
      "1    2\n",
      "2    3\n",
      "3    4\n",
      "dtype: int64\n"
     ]
    }
   ],
   "source": [
    "# the series created with short method\n",
    "series2 = pd.Series([1,2,3,4])\n",
    "print(series2)"
   ]
  },
  {
   "cell_type": "markdown",
   "metadata": {},
   "source": [
    "# Empty series"
   ]
  },
  {
   "cell_type": "code",
   "execution_count": 5,
   "metadata": {
    "execution": {
     "iopub.execute_input": "2025-02-15T12:22:26.367554Z",
     "iopub.status.busy": "2025-02-15T12:22:26.367043Z",
     "iopub.status.idle": "2025-02-15T12:22:26.374318Z",
     "shell.execute_reply": "2025-02-15T12:22:26.372915Z",
     "shell.execute_reply.started": "2025-02-15T12:22:26.367511Z"
    }
   },
   "outputs": [
    {
     "name": "stdout",
     "output_type": "stream",
     "text": [
      "Series([], dtype: object)\n"
     ]
    }
   ],
   "source": [
    "# empty series is created \n",
    "empty_s =  pd.Series([]) # empty series jo hamari create hoti hai wo yek list ka formate hota hai \n",
    "print(empty_s)"
   ]
  },
  {
   "cell_type": "code",
   "execution_count": 5,
   "metadata": {},
   "outputs": [
    {
     "name": "stdout",
     "output_type": "stream",
     "text": [
      "a    1\n",
      "b    2\n",
      "c    3\n",
      "d    4\n",
      "dtype: int64\n"
     ]
    }
   ],
   "source": [
    "# the series index are default index we can change the index\n",
    "\n",
    "# series ka index permanent nahi hota hai we can change the index\n",
    "# hum existing series ko copy karenge aur usme some changes karenge \"index = ['a','b','c','d'])\" this is the major changes index ka use karke hum index chnage kar sakte hai  \n",
    "# hum index tag ka use karke hum index ko apne according chnage kar skate hai \n",
    "series3 = pd.Series([1,2,3,4],index = ['a','b','c','d'])\n",
    "print(series3)"
   ]
  },
  {
   "cell_type": "code",
   "execution_count": 9,
   "metadata": {
    "execution": {
     "iopub.execute_input": "2025-02-16T06:58:20.276874Z",
     "iopub.status.busy": "2025-02-16T06:58:20.276503Z",
     "iopub.status.idle": "2025-02-16T06:58:20.283102Z",
     "shell.execute_reply": "2025-02-16T06:58:20.282076Z",
     "shell.execute_reply.started": "2025-02-16T06:58:20.276844Z"
    }
   },
   "outputs": [
    {
     "name": "stdout",
     "output_type": "stream",
     "text": [
      "a    1.0\n",
      "b    2.0\n",
      "c    3.0\n",
      "d    4.0\n",
      "dtype: float64\n"
     ]
    }
   ],
   "source": [
    "# change thhe data type and change in to float \n",
    "\n",
    "series3 = pd.Series([1,2,3,4],index = ['a','b','c','d'],dtype =  float)\n",
    "print(series3)"
   ]
  },
  {
   "cell_type": "markdown",
   "metadata": {},
   "source": [
    "# colum name \n",
    "\n",
    "means give the column name of data value "
   ]
  },
  {
   "cell_type": "code",
   "execution_count": 10,
   "metadata": {
    "execution": {
     "iopub.execute_input": "2025-02-16T07:00:03.327397Z",
     "iopub.status.busy": "2025-02-16T07:00:03.326978Z",
     "iopub.status.idle": "2025-02-16T07:00:03.334206Z",
     "shell.execute_reply": "2025-02-16T07:00:03.332892Z",
     "shell.execute_reply.started": "2025-02-16T07:00:03.327355Z"
    }
   },
   "outputs": [
    {
     "name": "stdout",
     "output_type": "stream",
     "text": [
      "a    1.0\n",
      "b    2.0\n",
      "c    3.0\n",
      "d    4.0\n",
      "Name: data values, dtype: float64\n"
     ]
    }
   ],
   "source": [
    "series3 = pd.Series([1,2,3,4],index = ['a','b','c','d'],dtype =  float,name = 'data values')\n",
    "print(series3)"
   ]
  },
  {
   "cell_type": "markdown",
   "metadata": {},
   "source": [
    "# Scaler \n",
    "\n",
    "series created with the single values "
   ]
  },
  {
   "cell_type": "code",
   "execution_count": 11,
   "metadata": {
    "execution": {
     "iopub.execute_input": "2025-02-16T07:04:06.638932Z",
     "iopub.status.busy": "2025-02-16T07:04:06.638617Z",
     "iopub.status.idle": "2025-02-16T07:04:06.642597Z",
     "shell.execute_reply": "2025-02-16T07:04:06.641604Z",
     "shell.execute_reply.started": "2025-02-16T07:04:06.638906Z"
    }
   },
   "outputs": [],
   "source": [
    "# abhi tak jo humne series create kiya hai wo with the help of list se kiya hai \n",
    "# Now we create a series with scaler values "
   ]
  },
  {
   "cell_type": "code",
   "execution_count": 13,
   "metadata": {
    "execution": {
     "iopub.execute_input": "2025-02-16T07:04:22.833547Z",
     "iopub.status.busy": "2025-02-16T07:04:22.833196Z",
     "iopub.status.idle": "2025-02-16T07:04:22.839646Z",
     "shell.execute_reply": "2025-02-16T07:04:22.838503Z",
     "shell.execute_reply.started": "2025-02-16T07:04:22.833513Z"
    }
   },
   "outputs": [
    {
     "name": "stdout",
     "output_type": "stream",
     "text": [
      "0    0.5\n",
      "dtype: float64\n"
     ]
    }
   ],
   "source": [
    "scaler_s = pd.Series(0.5)\n",
    "print(scaler_s) # here a single scaler values with single values "
   ]
  },
  {
   "cell_type": "code",
   "execution_count": 14,
   "metadata": {
    "execution": {
     "iopub.execute_input": "2025-02-16T07:05:44.248597Z",
     "iopub.status.busy": "2025-02-16T07:05:44.248252Z",
     "iopub.status.idle": "2025-02-16T07:05:44.255384Z",
     "shell.execute_reply": "2025-02-16T07:05:44.254039Z",
     "shell.execute_reply.started": "2025-02-16T07:05:44.248570Z"
    }
   },
   "outputs": [
    {
     "name": "stdout",
     "output_type": "stream",
     "text": [
      "1    0.5\n",
      "2    0.5\n",
      "3    0.5\n",
      "4    0.5\n",
      "5    0.5\n",
      "dtype: float64\n"
     ]
    }
   ],
   "source": [
    "# multi scaler value with single values \n",
    "\n",
    "scaler_s = pd.Series(0.5 , index = [1,2,3,4,5])\n",
    "print(scaler_s)\n",
    "\n",
    "# here are the multiple value with single values "
   ]
  },
  {
   "cell_type": "markdown",
   "metadata": {},
   "source": [
    "# Dictionary \n",
    "\n",
    "A series created with the help of dictionary"
   ]
  },
  {
   "cell_type": "code",
   "execution_count": 17,
   "metadata": {
    "execution": {
     "iopub.execute_input": "2025-02-16T07:11:05.573789Z",
     "iopub.status.busy": "2025-02-16T07:11:05.573380Z",
     "iopub.status.idle": "2025-02-16T07:11:05.579968Z",
     "shell.execute_reply": "2025-02-16T07:11:05.578732Z",
     "shell.execute_reply.started": "2025-02-16T07:11:05.573747Z"
    }
   },
   "outputs": [
    {
     "name": "stdout",
     "output_type": "stream",
     "text": [
      "a    1\n",
      "b    2\n",
      "dtype: int64\n"
     ]
    }
   ],
   "source": [
    "# Dictionary ka use karke bhi hum series bana sakte hai \n",
    "\n",
    "dict_s = pd.Series({'a':1,'b':2})\n",
    "print(dict_s)\n",
    "\n",
    "# Here the series are printed with the help of Dictionary "
   ]
  },
  {
   "cell_type": "code",
   "execution_count": 4,
   "metadata": {
    "execution": {
     "iopub.execute_input": "2025-02-18T05:25:28.401505Z",
     "iopub.status.busy": "2025-02-18T05:25:28.401185Z",
     "iopub.status.idle": "2025-02-18T05:25:28.409206Z",
     "shell.execute_reply": "2025-02-18T05:25:28.407955Z",
     "shell.execute_reply.started": "2025-02-18T05:25:28.401482Z"
    }
   },
   "outputs": [
    {
     "name": "stdout",
     "output_type": "stream",
     "text": [
      "0    1\n",
      "1    2\n",
      "2    3\n",
      "3    4\n",
      "4    5\n",
      "dtype: int64\n"
     ]
    }
   ],
   "source": [
    "# Humko agar series se koi bhi value ko acces karna hai to  ye function ka use karenge \n",
    "\n",
    "s4 = pd.Series([1,2,3,4,5])\n",
    "print(s4)"
   ]
  },
  {
   "cell_type": "code",
   "execution_count": 5,
   "metadata": {
    "execution": {
     "iopub.execute_input": "2025-02-18T05:25:33.290588Z",
     "iopub.status.busy": "2025-02-18T05:25:33.290229Z",
     "iopub.status.idle": "2025-02-18T05:25:33.298944Z",
     "shell.execute_reply": "2025-02-18T05:25:33.297918Z",
     "shell.execute_reply.started": "2025-02-18T05:25:33.290558Z"
    }
   },
   "outputs": [
    {
     "data": {
      "text/plain": [
       "3"
      ]
     },
     "execution_count": 5,
     "metadata": {},
     "output_type": "execute_result"
    }
   ],
   "source": [
    "# ab isme se agar humko koi value ko access karna hai to hum series ka index dalenge to uska value humko milega \n",
    "\n",
    "s4[2]"
   ]
  },
  {
   "cell_type": "code",
   "execution_count": 22,
   "metadata": {
    "execution": {
     "iopub.execute_input": "2025-02-16T07:20:58.411822Z",
     "iopub.status.busy": "2025-02-16T07:20:58.411422Z",
     "iopub.status.idle": "2025-02-16T07:20:58.417577Z",
     "shell.execute_reply": "2025-02-16T07:20:58.416590Z",
     "shell.execute_reply.started": "2025-02-16T07:20:58.411793Z"
    }
   },
   "outputs": [
    {
     "data": {
      "text/plain": [
       "5"
      ]
     },
     "execution_count": 22,
     "metadata": {},
     "output_type": "execute_result"
    }
   ],
   "source": [
    "s4[4] # jab hum index ko likhenge to humko data output milega "
   ]
  },
  {
   "cell_type": "markdown",
   "metadata": {},
   "source": [
    "# Slice \n",
    "\n",
    "slice operator ka use karke hum series ko sllice bhi kar sakte hai "
   ]
  },
  {
   "cell_type": "code",
   "execution_count": 23,
   "metadata": {
    "execution": {
     "iopub.execute_input": "2025-02-16T07:23:31.297631Z",
     "iopub.status.busy": "2025-02-16T07:23:31.297229Z",
     "iopub.status.idle": "2025-02-16T07:23:31.304535Z",
     "shell.execute_reply": "2025-02-16T07:23:31.303320Z",
     "shell.execute_reply.started": "2025-02-16T07:23:31.297599Z"
    }
   },
   "outputs": [
    {
     "data": {
      "text/plain": [
       "0    1\n",
       "1    2\n",
       "2    3\n",
       "dtype: int64"
      ]
     },
     "execution_count": 23,
     "metadata": {},
     "output_type": "execute_result"
    }
   ],
   "source": [
    "s4[0:3] # yaha par values silice ho gai hai "
   ]
  },
  {
   "cell_type": "markdown",
   "metadata": {},
   "source": [
    "# max and min\n",
    "\n",
    "series me hum max and min function ka use karke max and value find out kar sakte hai "
   ]
  },
  {
   "cell_type": "code",
   "execution_count": 25,
   "metadata": {
    "execution": {
     "iopub.execute_input": "2025-02-16T07:27:41.997217Z",
     "iopub.status.busy": "2025-02-16T07:27:41.996843Z",
     "iopub.status.idle": "2025-02-16T07:27:42.003036Z",
     "shell.execute_reply": "2025-02-16T07:27:42.002039Z",
     "shell.execute_reply.started": "2025-02-16T07:27:41.997185Z"
    }
   },
   "outputs": [
    {
     "data": {
      "text/plain": [
       "5"
      ]
     },
     "execution_count": 25,
     "metadata": {},
     "output_type": "execute_result"
    }
   ],
   "source": [
    "max(s4)"
   ]
  },
  {
   "cell_type": "code",
   "execution_count": 26,
   "metadata": {
    "execution": {
     "iopub.execute_input": "2025-02-16T07:29:42.961611Z",
     "iopub.status.busy": "2025-02-16T07:29:42.961211Z",
     "iopub.status.idle": "2025-02-16T07:29:42.968938Z",
     "shell.execute_reply": "2025-02-16T07:29:42.967375Z",
     "shell.execute_reply.started": "2025-02-16T07:29:42.961575Z"
    }
   },
   "outputs": [
    {
     "data": {
      "text/plain": [
       "1"
      ]
     },
     "execution_count": 26,
     "metadata": {},
     "output_type": "execute_result"
    },
    {
     "name": "stdout",
     "output_type": "stream",
     "text": [
      "The history saving thread hit an unexpected error (OperationalError('attempt to write a readonly database')).History will not be written to the database.\n"
     ]
    }
   ],
   "source": [
    "min(s4)"
   ]
  },
  {
   "cell_type": "code",
   "execution_count": 6,
   "metadata": {
    "execution": {
     "iopub.execute_input": "2025-02-18T05:25:37.370245Z",
     "iopub.status.busy": "2025-02-18T05:25:37.369888Z",
     "iopub.status.idle": "2025-02-18T05:25:37.379151Z",
     "shell.execute_reply": "2025-02-18T05:25:37.378000Z",
     "shell.execute_reply.started": "2025-02-18T05:25:37.370216Z"
    }
   },
   "outputs": [
    {
     "data": {
      "text/plain": [
       "3    4\n",
       "4    5\n",
       "dtype: int64"
      ]
     },
     "execution_count": 6,
     "metadata": {},
     "output_type": "execute_result"
    }
   ],
   "source": [
    "# if we want greater then value then we use condition operator \n",
    "\n",
    "s4[s4>3]"
   ]
  },
  {
   "cell_type": "markdown",
   "metadata": {},
   "source": [
    "# Addition Subs  and Multi "
   ]
  },
  {
   "cell_type": "code",
   "execution_count": 8,
   "metadata": {
    "execution": {
     "iopub.execute_input": "2025-02-18T05:26:25.306093Z",
     "iopub.status.busy": "2025-02-18T05:26:25.305725Z",
     "iopub.status.idle": "2025-02-18T05:26:25.310381Z",
     "shell.execute_reply": "2025-02-18T05:26:25.309147Z",
     "shell.execute_reply.started": "2025-02-18T05:26:25.306067Z"
    }
   },
   "outputs": [],
   "source": [
    "# Here we doing the addition of two series "
   ]
  },
  {
   "cell_type": "code",
   "execution_count": 10,
   "metadata": {
    "execution": {
     "iopub.execute_input": "2025-02-18T05:27:31.269176Z",
     "iopub.status.busy": "2025-02-18T05:27:31.268846Z",
     "iopub.status.idle": "2025-02-18T05:27:31.275127Z",
     "shell.execute_reply": "2025-02-18T05:27:31.273816Z",
     "shell.execute_reply.started": "2025-02-18T05:27:31.269152Z"
    }
   },
   "outputs": [
    {
     "name": "stdout",
     "output_type": "stream",
     "text": [
      "0    1\n",
      "1    2\n",
      "2    3\n",
      "3    4\n",
      "4    5\n",
      "dtype: int64\n"
     ]
    }
   ],
   "source": [
    "# First we have two create two cells s5 and s6\n",
    "\n",
    "s5 = pd.Series([1,2,3,4,5])\n",
    "print(s5)"
   ]
  },
  {
   "cell_type": "code",
   "execution_count": 11,
   "metadata": {
    "execution": {
     "iopub.execute_input": "2025-02-18T05:28:01.295592Z",
     "iopub.status.busy": "2025-02-18T05:28:01.295243Z",
     "iopub.status.idle": "2025-02-18T05:28:01.301924Z",
     "shell.execute_reply": "2025-02-18T05:28:01.300434Z",
     "shell.execute_reply.started": "2025-02-18T05:28:01.295566Z"
    }
   },
   "outputs": [
    {
     "name": "stdout",
     "output_type": "stream",
     "text": [
      "0    1\n",
      "1    2\n",
      "2    3\n",
      "3    4\n",
      "4    5\n",
      "dtype: int64\n"
     ]
    }
   ],
   "source": [
    "s6 = pd.Series([1,2,3,4,5])\n",
    "print(s6)"
   ]
  },
  {
   "cell_type": "code",
   "execution_count": 14,
   "metadata": {
    "execution": {
     "iopub.execute_input": "2025-02-18T05:29:33.335400Z",
     "iopub.status.busy": "2025-02-18T05:29:33.335080Z",
     "iopub.status.idle": "2025-02-18T05:29:33.342956Z",
     "shell.execute_reply": "2025-02-18T05:29:33.341757Z",
     "shell.execute_reply.started": "2025-02-18T05:29:33.335375Z"
    }
   },
   "outputs": [
    {
     "data": {
      "text/plain": [
       "0     1\n",
       "1     4\n",
       "2     9\n",
       "3    16\n",
       "4    25\n",
       "dtype: int64"
      ]
     },
     "execution_count": 14,
     "metadata": {},
     "output_type": "execute_result"
    }
   ],
   "source": [
    "s4+s5 # here both the series is added \n",
    "\n",
    "# isi tareeke se hum addition , multiplication ,and subsctraction bhi kar saakte hai \n",
    "\n",
    "s5-s6\n",
    "\n",
    "s5*s6\n"
   ]
  },
  {
   "cell_type": "code",
   "execution_count": 15,
   "metadata": {
    "execution": {
     "iopub.execute_input": "2025-02-18T05:31:09.891011Z",
     "iopub.status.busy": "2025-02-18T05:31:09.890560Z",
     "iopub.status.idle": "2025-02-18T05:31:09.896068Z",
     "shell.execute_reply": "2025-02-18T05:31:09.894577Z",
     "shell.execute_reply.started": "2025-02-18T05:31:09.890972Z"
    }
   },
   "outputs": [],
   "source": [
    "# unequal data value in two series "
   ]
  },
  {
   "cell_type": "code",
   "execution_count": 17,
   "metadata": {
    "execution": {
     "iopub.execute_input": "2025-02-18T05:31:57.100370Z",
     "iopub.status.busy": "2025-02-18T05:31:57.100030Z",
     "iopub.status.idle": "2025-02-18T05:31:57.106900Z",
     "shell.execute_reply": "2025-02-18T05:31:57.105558Z",
     "shell.execute_reply.started": "2025-02-18T05:31:57.100343Z"
    }
   },
   "outputs": [
    {
     "name": "stdout",
     "output_type": "stream",
     "text": [
      "0    1\n",
      "1    2\n",
      "2    3\n",
      "3    4\n",
      "4    5\n",
      "5    6\n",
      "6    7\n",
      "dtype: int64\n"
     ]
    }
   ],
   "source": [
    "# new serie s7 \n",
    "\n",
    "s7 = pd.Series([1,2,3,4,5,6,7])\n",
    "print(s7)"
   ]
  },
  {
   "cell_type": "code",
   "execution_count": 19,
   "metadata": {
    "execution": {
     "iopub.execute_input": "2025-02-18T05:33:59.715597Z",
     "iopub.status.busy": "2025-02-18T05:33:59.715226Z",
     "iopub.status.idle": "2025-02-18T05:33:59.725404Z",
     "shell.execute_reply": "2025-02-18T05:33:59.724315Z",
     "shell.execute_reply.started": "2025-02-18T05:33:59.715565Z"
    }
   },
   "outputs": [
    {
     "name": "stderr",
     "output_type": "stream",
     "text": [
      "/usr/local/lib/python3.10/dist-packages/pandas/io/formats/format.py:1458: RuntimeWarning: invalid value encountered in greater\n",
      "  has_large_values = (abs_vals > 1e6).any()\n",
      "/usr/local/lib/python3.10/dist-packages/pandas/io/formats/format.py:1459: RuntimeWarning: invalid value encountered in less\n",
      "  has_small_values = ((abs_vals < 10 ** (-self.digits)) & (abs_vals > 0)).any()\n",
      "/usr/local/lib/python3.10/dist-packages/pandas/io/formats/format.py:1459: RuntimeWarning: invalid value encountered in greater\n",
      "  has_small_values = ((abs_vals < 10 ** (-self.digits)) & (abs_vals > 0)).any()\n"
     ]
    },
    {
     "data": {
      "text/plain": [
       "0     2.0\n",
       "1     4.0\n",
       "2     6.0\n",
       "3     8.0\n",
       "4    10.0\n",
       "5     NaN\n",
       "6     NaN\n",
       "dtype: float64"
      ]
     },
     "execution_count": 19,
     "metadata": {},
     "output_type": "execute_result"
    }
   ],
   "source": [
    "# addition with un equal data \n",
    "s6+s7  \n",
    "\n",
    "# pandas ke andar missing values ko bhi ye handle karta hai \n",
    "\n",
    "# ye null value ko return karta hai jaha value nahi hota hai "
   ]
  },
  {
   "cell_type": "code",
   "execution_count": null,
   "metadata": {},
   "outputs": [],
   "source": []
  }
 ],
 "metadata": {
  "kaggle": {
   "accelerator": "none",
   "dataSources": [],
   "dockerImageVersionId": 30886,
   "isGpuEnabled": false,
   "isInternetEnabled": true,
   "language": "python",
   "sourceType": "notebook"
  },
  "kernelspec": {
   "display_name": "Python 3 (ipykernel)",
   "language": "python",
   "name": "python3"
  },
  "language_info": {
   "codemirror_mode": {
    "name": "ipython",
    "version": 3
   },
   "file_extension": ".py",
   "mimetype": "text/x-python",
   "name": "python",
   "nbconvert_exporter": "python",
   "pygments_lexer": "ipython3",
   "version": "3.13.1"
  }
 },
 "nbformat": 4,
 "nbformat_minor": 4
}
