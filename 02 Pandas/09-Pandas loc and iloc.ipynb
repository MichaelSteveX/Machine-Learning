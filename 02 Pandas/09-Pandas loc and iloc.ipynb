{
 "cells": [
  {
   "cell_type": "markdown",
   "id": "50e51940-2bbb-4c13-8abd-d2a82fcc8149",
   "metadata": {},
   "source": [
    "## Pandas loc and iloc"
   ]
  },
  {
   "cell_type": "markdown",
   "id": "526b1cc5-b2b1-434a-a183-6808cdecb6a4",
   "metadata": {},
   "source": [
    "#### pandas loc"
   ]
  },
  {
   "cell_type": "code",
   "execution_count": 1,
   "id": "fae8055b-5896-4298-86c5-064889e8006f",
   "metadata": {},
   "outputs": [],
   "source": [
    "# Access a group of rows and columns by label(s) or a boolean array \n",
    "# loc method ka use karke hum data frame me unke column ko labels se access kar sakte hai "
   ]
  },
  {
   "cell_type": "code",
   "execution_count": 2,
   "id": "bcc838da-2634-4539-8c12-522beaa74690",
   "metadata": {},
   "outputs": [],
   "source": [
    "import pandas as pd"
   ]
  },
  {
   "cell_type": "code",
   "execution_count": 5,
   "id": "c0ef9b8b-1573-4d96-b3e0-032937a016df",
   "metadata": {},
   "outputs": [
    {
     "data": {
      "text/html": [
       "<div>\n",
       "<style scoped>\n",
       "    .dataframe tbody tr th:only-of-type {\n",
       "        vertical-align: middle;\n",
       "    }\n",
       "\n",
       "    .dataframe tbody tr th {\n",
       "        vertical-align: top;\n",
       "    }\n",
       "\n",
       "    .dataframe thead th {\n",
       "        text-align: right;\n",
       "    }\n",
       "</style>\n",
       "<table border=\"1\" class=\"dataframe\">\n",
       "  <thead>\n",
       "    <tr style=\"text-align: right;\">\n",
       "      <th></th>\n",
       "      <th>Student ID</th>\n",
       "      <th>Class</th>\n",
       "      <th>Study hrs</th>\n",
       "      <th>Social Media Usage hrs</th>\n",
       "      <th>Percantege</th>\n",
       "    </tr>\n",
       "  </thead>\n",
       "  <tbody>\n",
       "    <tr>\n",
       "      <th>0</th>\n",
       "      <td>1001</td>\n",
       "      <td>10</td>\n",
       "      <td>2</td>\n",
       "      <td>3</td>\n",
       "      <td>50</td>\n",
       "    </tr>\n",
       "    <tr>\n",
       "      <th>1</th>\n",
       "      <td>1002</td>\n",
       "      <td>10</td>\n",
       "      <td>6</td>\n",
       "      <td>2</td>\n",
       "      <td>80</td>\n",
       "    </tr>\n",
       "    <tr>\n",
       "      <th>2</th>\n",
       "      <td>1003</td>\n",
       "      <td>10</td>\n",
       "      <td>3</td>\n",
       "      <td>2</td>\n",
       "      <td>60</td>\n",
       "    </tr>\n",
       "    <tr>\n",
       "      <th>3</th>\n",
       "      <td>1004</td>\n",
       "      <td>11</td>\n",
       "      <td>0</td>\n",
       "      <td>1</td>\n",
       "      <td>45</td>\n",
       "    </tr>\n",
       "    <tr>\n",
       "      <th>4</th>\n",
       "      <td>1005</td>\n",
       "      <td>12</td>\n",
       "      <td>5</td>\n",
       "      <td>2</td>\n",
       "      <td>75</td>\n",
       "    </tr>\n",
       "  </tbody>\n",
       "</table>\n",
       "</div>"
      ],
      "text/plain": [
       "   Student ID  Class  Study hrs  Social Media Usage hrs  Percantege\n",
       "0        1001     10          2                       3          50\n",
       "1        1002     10          6                       2          80\n",
       "2        1003     10          3                       2          60\n",
       "3        1004     11          0                       1          45\n",
       "4        1005     12          5                       2          75"
      ]
     },
     "execution_count": 5,
     "metadata": {},
     "output_type": "execute_result"
    }
   ],
   "source": [
    "df = pd.read_csv('C:\\\\Users\\\\Admin\\\\Downloads\\\\student data.csv')\n",
    "df"
   ]
  },
  {
   "cell_type": "code",
   "execution_count": 6,
   "id": "03b4ab3e-a1e3-46c6-b2e5-1fe9669bc0b3",
   "metadata": {},
   "outputs": [],
   "source": [
    "# now we apply loc method"
   ]
  },
  {
   "cell_type": "code",
   "execution_count": 8,
   "id": "adb603b2-8724-46ac-90c6-4d31effc113f",
   "metadata": {},
   "outputs": [
    {
     "data": {
      "text/plain": [
       "Student ID                1001\n",
       "Class                       10\n",
       "Study hrs                    2\n",
       "Social Media Usage hrs       3\n",
       "Percantege                  50\n",
       "Name: 0, dtype: int64"
      ]
     },
     "execution_count": 8,
     "metadata": {},
     "output_type": "execute_result"
    }
   ],
   "source": [
    "df.loc[0] # zero label dene ke baad 0 ke andar zitni bhi details thi wo show ho gai with theor column name "
   ]
  },
  {
   "cell_type": "code",
   "execution_count": 10,
   "id": "bc14e2e3-66a7-44e0-9ce8-7a2c02b9a2c6",
   "metadata": {},
   "outputs": [
    {
     "data": {
      "text/plain": [
       "Student ID                1003\n",
       "Class                       10\n",
       "Study hrs                    3\n",
       "Social Media Usage hrs       2\n",
       "Percantege                  60\n",
       "Name: 2, dtype: int64"
      ]
     },
     "execution_count": 10,
     "metadata": {},
     "output_type": "execute_result"
    }
   ],
   "source": [
    "df.loc[2]"
   ]
  },
  {
   "cell_type": "code",
   "execution_count": 11,
   "id": "e44cc8a6-0168-432d-b223-a1e9a56515d3",
   "metadata": {},
   "outputs": [
    {
     "data": {
      "text/html": [
       "<div>\n",
       "<style scoped>\n",
       "    .dataframe tbody tr th:only-of-type {\n",
       "        vertical-align: middle;\n",
       "    }\n",
       "\n",
       "    .dataframe tbody tr th {\n",
       "        vertical-align: top;\n",
       "    }\n",
       "\n",
       "    .dataframe thead th {\n",
       "        text-align: right;\n",
       "    }\n",
       "</style>\n",
       "<table border=\"1\" class=\"dataframe\">\n",
       "  <thead>\n",
       "    <tr style=\"text-align: right;\">\n",
       "      <th></th>\n",
       "      <th>Student ID</th>\n",
       "      <th>Class</th>\n",
       "      <th>Study hrs</th>\n",
       "      <th>Social Media Usage hrs</th>\n",
       "      <th>Percantege</th>\n",
       "    </tr>\n",
       "  </thead>\n",
       "  <tbody>\n",
       "    <tr>\n",
       "      <th>0</th>\n",
       "      <td>1001</td>\n",
       "      <td>10</td>\n",
       "      <td>2</td>\n",
       "      <td>3</td>\n",
       "      <td>50</td>\n",
       "    </tr>\n",
       "    <tr>\n",
       "      <th>1</th>\n",
       "      <td>1002</td>\n",
       "      <td>10</td>\n",
       "      <td>6</td>\n",
       "      <td>2</td>\n",
       "      <td>80</td>\n",
       "    </tr>\n",
       "    <tr>\n",
       "      <th>2</th>\n",
       "      <td>1003</td>\n",
       "      <td>10</td>\n",
       "      <td>3</td>\n",
       "      <td>2</td>\n",
       "      <td>60</td>\n",
       "    </tr>\n",
       "  </tbody>\n",
       "</table>\n",
       "</div>"
      ],
      "text/plain": [
       "   Student ID  Class  Study hrs  Social Media Usage hrs  Percantege\n",
       "0        1001     10          2                       3          50\n",
       "1        1002     10          6                       2          80\n",
       "2        1003     10          3                       2          60"
      ]
     },
     "execution_count": 11,
     "metadata": {},
     "output_type": "execute_result"
    }
   ],
   "source": [
    "# if humko multiplle talble chaiye to hum is function ka use karenge \n",
    "df.loc[[0,1,2]]"
   ]
  },
  {
   "cell_type": "code",
   "execution_count": 15,
   "id": "c3d1a634-fb42-4e54-9f51-9f67095f4052",
   "metadata": {},
   "outputs": [
    {
     "data": {
      "text/plain": [
       "np.int64(75)"
      ]
     },
     "execution_count": 15,
     "metadata": {},
     "output_type": "execute_result"
    }
   ],
   "source": [
    "# if we need any specific value from the column then we use this function \n",
    "df.loc[4,'Percantege']"
   ]
  },
  {
   "cell_type": "code",
   "execution_count": 16,
   "id": "f8098c17-5ee6-477f-8c10-7b099795d00c",
   "metadata": {},
   "outputs": [],
   "source": [
    "# slice operator if we want to slice any value from the particular column then we use this operator "
   ]
  },
  {
   "cell_type": "code",
   "execution_count": 18,
   "id": "6ed456bd-6094-402b-b62c-85a6691b19b2",
   "metadata": {},
   "outputs": [
    {
     "data": {
      "text/plain": [
       "0    10\n",
       "1    10\n",
       "2    10\n",
       "3    11\n",
       "Name: Class, dtype: int64"
      ]
     },
     "execution_count": 18,
     "metadata": {},
     "output_type": "execute_result"
    }
   ],
   "source": [
    "df.loc[0:3,\"Class\"]"
   ]
  },
  {
   "cell_type": "code",
   "execution_count": 19,
   "id": "4a0d687e-5439-4319-bc7f-9fc41e7c00e3",
   "metadata": {},
   "outputs": [
    {
     "data": {
      "text/html": [
       "<div>\n",
       "<style scoped>\n",
       "    .dataframe tbody tr th:only-of-type {\n",
       "        vertical-align: middle;\n",
       "    }\n",
       "\n",
       "    .dataframe tbody tr th {\n",
       "        vertical-align: top;\n",
       "    }\n",
       "\n",
       "    .dataframe thead th {\n",
       "        text-align: right;\n",
       "    }\n",
       "</style>\n",
       "<table border=\"1\" class=\"dataframe\">\n",
       "  <thead>\n",
       "    <tr style=\"text-align: right;\">\n",
       "      <th></th>\n",
       "      <th>Student ID</th>\n",
       "      <th>Class</th>\n",
       "      <th>Study hrs</th>\n",
       "      <th>Social Media Usage hrs</th>\n",
       "      <th>Percantege</th>\n",
       "    </tr>\n",
       "  </thead>\n",
       "  <tbody>\n",
       "    <tr>\n",
       "      <th>0</th>\n",
       "      <td>1001</td>\n",
       "      <td>10</td>\n",
       "      <td>2</td>\n",
       "      <td>3</td>\n",
       "      <td>50</td>\n",
       "    </tr>\n",
       "    <tr>\n",
       "      <th>1</th>\n",
       "      <td>1002</td>\n",
       "      <td>10</td>\n",
       "      <td>6</td>\n",
       "      <td>2</td>\n",
       "      <td>80</td>\n",
       "    </tr>\n",
       "    <tr>\n",
       "      <th>2</th>\n",
       "      <td>1003</td>\n",
       "      <td>10</td>\n",
       "      <td>3</td>\n",
       "      <td>2</td>\n",
       "      <td>60</td>\n",
       "    </tr>\n",
       "  </tbody>\n",
       "</table>\n",
       "</div>"
      ],
      "text/plain": [
       "   Student ID  Class  Study hrs  Social Media Usage hrs  Percantege\n",
       "0        1001     10          2                       3          50\n",
       "1        1002     10          6                       2          80\n",
       "2        1003     10          3                       2          60"
      ]
     },
     "execution_count": 19,
     "metadata": {},
     "output_type": "execute_result"
    }
   ],
   "source": [
    "# we also use conditional operator \n",
    "df.loc[df['Class']<11] # if we want less then 11 value from them class column then we use this operator "
   ]
  },
  {
   "cell_type": "code",
   "execution_count": 20,
   "id": "99ffd735-eee9-4073-93b8-039513e2c5f8",
   "metadata": {},
   "outputs": [
    {
     "data": {
      "text/html": [
       "<div>\n",
       "<style scoped>\n",
       "    .dataframe tbody tr th:only-of-type {\n",
       "        vertical-align: middle;\n",
       "    }\n",
       "\n",
       "    .dataframe tbody tr th {\n",
       "        vertical-align: top;\n",
       "    }\n",
       "\n",
       "    .dataframe thead th {\n",
       "        text-align: right;\n",
       "    }\n",
       "</style>\n",
       "<table border=\"1\" class=\"dataframe\">\n",
       "  <thead>\n",
       "    <tr style=\"text-align: right;\">\n",
       "      <th></th>\n",
       "      <th>Percantege</th>\n",
       "    </tr>\n",
       "  </thead>\n",
       "  <tbody>\n",
       "    <tr>\n",
       "      <th>0</th>\n",
       "      <td>50</td>\n",
       "    </tr>\n",
       "    <tr>\n",
       "      <th>1</th>\n",
       "      <td>80</td>\n",
       "    </tr>\n",
       "    <tr>\n",
       "      <th>2</th>\n",
       "      <td>60</td>\n",
       "    </tr>\n",
       "  </tbody>\n",
       "</table>\n",
       "</div>"
      ],
      "text/plain": [
       "   Percantege\n",
       "0          50\n",
       "1          80\n",
       "2          60"
      ]
     },
     "execution_count": 20,
     "metadata": {},
     "output_type": "execute_result"
    }
   ],
   "source": [
    "df.loc[df['Class']<11,['Percantege']] # if we want less then 11 value from them Percantege , Class  column then we use this operator "
   ]
  },
  {
   "cell_type": "markdown",
   "id": "5e185a31-012d-4c84-a84a-b3d2d9dfc9f5",
   "metadata": {},
   "source": [
    "#### pandas iloc\n"
   ]
  },
  {
   "cell_type": "code",
   "execution_count": 21,
   "id": "346f2455-9a76-4233-a16d-fb31b2737d0f",
   "metadata": {},
   "outputs": [],
   "source": [
    "# pandas iloc integer location based indexing hota hai"
   ]
  },
  {
   "cell_type": "code",
   "execution_count": 22,
   "id": "150f143a-fef3-421e-9675-4586891c62e4",
   "metadata": {},
   "outputs": [],
   "source": [
    "# i loc me unko hum excess kar skate hai unke number se \n",
    "# we use iloc to perform data selecting operaion\n"
   ]
  },
  {
   "cell_type": "code",
   "execution_count": 28,
   "id": "7338d1f8-281b-46c4-96a4-7a9ed816adb8",
   "metadata": {},
   "outputs": [
    {
     "data": {
      "text/plain": [
       "Student ID                1001\n",
       "Class                       10\n",
       "Study hrs                    2\n",
       "Social Media Usage hrs       3\n",
       "Percantege                  50\n",
       "Name: 0, dtype: int64"
      ]
     },
     "execution_count": 28,
     "metadata": {},
     "output_type": "execute_result"
    }
   ],
   "source": [
    "# indexing\n",
    "df.iloc[0]"
   ]
  },
  {
   "cell_type": "code",
   "execution_count": 27,
   "id": "e22aa3ae-327b-45cb-830a-b57025da4bc9",
   "metadata": {},
   "outputs": [
    {
     "data": {
      "text/plain": [
       "0    1001\n",
       "1    1002\n",
       "2    1003\n",
       "3    1004\n",
       "4    1005\n",
       "Name: Student ID, dtype: int64"
      ]
     },
     "execution_count": 27,
     "metadata": {},
     "output_type": "execute_result"
    }
   ],
   "source": [
    "# slicing\n",
    "df.iloc[:,0] # is result ko hum sirf iloc ka use karke he kar sakte hai \n",
    "              # if we use loc then showing error "
   ]
  },
  {
   "cell_type": "code",
   "execution_count": 29,
   "id": "15329eea-6de8-46dc-ba46-112a93df49f4",
   "metadata": {},
   "outputs": [
    {
     "data": {
      "text/html": [
       "<div>\n",
       "<style scoped>\n",
       "    .dataframe tbody tr th:only-of-type {\n",
       "        vertical-align: middle;\n",
       "    }\n",
       "\n",
       "    .dataframe tbody tr th {\n",
       "        vertical-align: top;\n",
       "    }\n",
       "\n",
       "    .dataframe thead th {\n",
       "        text-align: right;\n",
       "    }\n",
       "</style>\n",
       "<table border=\"1\" class=\"dataframe\">\n",
       "  <thead>\n",
       "    <tr style=\"text-align: right;\">\n",
       "      <th></th>\n",
       "      <th>Student ID</th>\n",
       "      <th>Class</th>\n",
       "      <th>Study hrs</th>\n",
       "      <th>Social Media Usage hrs</th>\n",
       "      <th>Percantege</th>\n",
       "    </tr>\n",
       "  </thead>\n",
       "  <tbody>\n",
       "    <tr>\n",
       "      <th>0</th>\n",
       "      <td>1001</td>\n",
       "      <td>10</td>\n",
       "      <td>2</td>\n",
       "      <td>3</td>\n",
       "      <td>50</td>\n",
       "    </tr>\n",
       "    <tr>\n",
       "      <th>1</th>\n",
       "      <td>1002</td>\n",
       "      <td>10</td>\n",
       "      <td>6</td>\n",
       "      <td>2</td>\n",
       "      <td>80</td>\n",
       "    </tr>\n",
       "  </tbody>\n",
       "</table>\n",
       "</div>"
      ],
      "text/plain": [
       "   Student ID  Class  Study hrs  Social Media Usage hrs  Percantege\n",
       "0        1001     10          2                       3          50\n",
       "1        1002     10          6                       2          80"
      ]
     },
     "execution_count": 29,
     "metadata": {},
     "output_type": "execute_result"
    }
   ],
   "source": [
    "# list of labels\n",
    "df.iloc[[0,1]]"
   ]
  },
  {
   "cell_type": "code",
   "execution_count": null,
   "id": "7655a3fd-35db-456e-a50d-61fd9b338f07",
   "metadata": {},
   "outputs": [],
   "source": []
  },
  {
   "cell_type": "code",
   "execution_count": null,
   "id": "75631fe5-6309-4076-8b9a-0bafa71b0002",
   "metadata": {},
   "outputs": [],
   "source": []
  }
 ],
 "metadata": {
  "kernelspec": {
   "display_name": "Python 3 (ipykernel)",
   "language": "python",
   "name": "python3"
  },
  "language_info": {
   "codemirror_mode": {
    "name": "ipython",
    "version": 3
   },
   "file_extension": ".py",
   "mimetype": "text/x-python",
   "name": "python",
   "nbconvert_exporter": "python",
   "pygments_lexer": "ipython3",
   "version": "3.13.1"
  }
 },
 "nbformat": 4,
 "nbformat_minor": 5
}
