{
 "cells": [
  {
   "cell_type": "markdown",
   "id": "5d028652-6371-4471-a9a4-e264ee471014",
   "metadata": {},
   "source": [
    "## Pandas append "
   ]
  },
  {
   "cell_type": "code",
   "execution_count": 1,
   "id": "f88632e5-4baf-432c-bbe6-ed14e974a501",
   "metadata": {},
   "outputs": [],
   "source": [
    "# Pandas Append  Function ----- pandas append function is used to append rpws of other DataFrameto the \n",
    "#                               end of the given DataFrame,Returning a new DataFrame object "
   ]
  },
  {
   "cell_type": "code",
   "execution_count": 3,
   "id": "4cde6f1c-7c16-4d81-83f3-28b47cac4894",
   "metadata": {},
   "outputs": [],
   "source": [
    "# Pandas append function ka use ayek DataFrame se kisi Dusre DataFrame ke  rows ko add karne ke liye hota hai \n",
    "# And is  function ka use karne par naya Data Frame object Return karta hai "
   ]
  },
  {
   "cell_type": "code",
   "execution_count": 4,
   "id": "fbf90977-a098-445c-99b5-cfa4a239e8ff",
   "metadata": {},
   "outputs": [],
   "source": [
    "import pandas as pd"
   ]
  },
  {
   "cell_type": "code",
   "execution_count": 5,
   "id": "cd976c95-f467-42ef-bd71-e3b1650553dd",
   "metadata": {},
   "outputs": [
    {
     "data": {
      "text/html": [
       "<div>\n",
       "<style scoped>\n",
       "    .dataframe tbody tr th:only-of-type {\n",
       "        vertical-align: middle;\n",
       "    }\n",
       "\n",
       "    .dataframe tbody tr th {\n",
       "        vertical-align: top;\n",
       "    }\n",
       "\n",
       "    .dataframe thead th {\n",
       "        text-align: right;\n",
       "    }\n",
       "</style>\n",
       "<table border=\"1\" class=\"dataframe\">\n",
       "  <thead>\n",
       "    <tr style=\"text-align: right;\">\n",
       "      <th></th>\n",
       "      <th>A</th>\n",
       "      <th>B</th>\n",
       "    </tr>\n",
       "  </thead>\n",
       "  <tbody>\n",
       "    <tr>\n",
       "      <th>0</th>\n",
       "      <td>1</td>\n",
       "      <td>10</td>\n",
       "    </tr>\n",
       "    <tr>\n",
       "      <th>1</th>\n",
       "      <td>2</td>\n",
       "      <td>20</td>\n",
       "    </tr>\n",
       "    <tr>\n",
       "      <th>2</th>\n",
       "      <td>3</td>\n",
       "      <td>30</td>\n",
       "    </tr>\n",
       "  </tbody>\n",
       "</table>\n",
       "</div>"
      ],
      "text/plain": [
       "   A   B\n",
       "0  1  10\n",
       "1  2  20\n",
       "2  3  30"
      ]
     },
     "metadata": {},
     "output_type": "display_data"
    },
    {
     "data": {
      "text/html": [
       "<div>\n",
       "<style scoped>\n",
       "    .dataframe tbody tr th:only-of-type {\n",
       "        vertical-align: middle;\n",
       "    }\n",
       "\n",
       "    .dataframe tbody tr th {\n",
       "        vertical-align: top;\n",
       "    }\n",
       "\n",
       "    .dataframe thead th {\n",
       "        text-align: right;\n",
       "    }\n",
       "</style>\n",
       "<table border=\"1\" class=\"dataframe\">\n",
       "  <thead>\n",
       "    <tr style=\"text-align: right;\">\n",
       "      <th></th>\n",
       "      <th>A</th>\n",
       "      <th>B</th>\n",
       "    </tr>\n",
       "  </thead>\n",
       "  <tbody>\n",
       "    <tr>\n",
       "      <th>0</th>\n",
       "      <td>4</td>\n",
       "      <td>40</td>\n",
       "    </tr>\n",
       "    <tr>\n",
       "      <th>1</th>\n",
       "      <td>5</td>\n",
       "      <td>50</td>\n",
       "    </tr>\n",
       "    <tr>\n",
       "      <th>2</th>\n",
       "      <td>6</td>\n",
       "      <td>60</td>\n",
       "    </tr>\n",
       "  </tbody>\n",
       "</table>\n",
       "</div>"
      ],
      "text/plain": [
       "   A   B\n",
       "0  4  40\n",
       "1  5  50\n",
       "2  6  60"
      ]
     },
     "metadata": {},
     "output_type": "display_data"
    }
   ],
   "source": [
    "df1 = pd.DataFrame({'A':[1,2,3],\n",
    "                   'B':[10,20,30]})\n",
    "\n",
    "df2 = pd.DataFrame({'A':[4,5,6],\n",
    "                   'B':[40,50,60]})\n",
    "\n",
    "display(df1,df2)\n"
   ]
  },
  {
   "cell_type": "code",
   "execution_count": 10,
   "id": "307ecb3c-2021-48db-9866-3f20d34a44d2",
   "metadata": {},
   "outputs": [],
   "source": [
    "# now we append the dataframe with the help of append function "
   ]
  },
  {
   "cell_type": "markdown",
   "id": "26469d92-d5b2-41f8-bfa2-1fbe7a00f598",
   "metadata": {},
   "source": [
    "#### Append Function "
   ]
  },
  {
   "cell_type": "code",
   "execution_count": 8,
   "id": "58298e08-50ae-4850-bc4d-6103638a1fff",
   "metadata": {},
   "outputs": [],
   "source": [
    " df1.append(df1)"
   ]
  },
  {
   "cell_type": "code",
   "execution_count": null,
   "id": "1c559baf-22f3-4a42-a8ba-6e7ae80a3eb1",
   "metadata": {},
   "outputs": [],
   "source": []
  }
 ],
 "metadata": {
  "kernelspec": {
   "display_name": "Python 3 (ipykernel)",
   "language": "python",
   "name": "python3"
  },
  "language_info": {
   "codemirror_mode": {
    "name": "ipython",
    "version": 3
   },
   "file_extension": ".py",
   "mimetype": "text/x-python",
   "name": "python",
   "nbconvert_exporter": "python",
   "pygments_lexer": "ipython3",
   "version": "3.13.1"
  }
 },
 "nbformat": 4,
 "nbformat_minor": 5
}
